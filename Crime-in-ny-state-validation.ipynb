{
 "cells": [
  {
   "cell_type": "code",
   "execution_count": 1,
   "metadata": {},
   "outputs": [],
   "source": [
    "import math\n",
    "from matplotlib import pyplot as plt\n",
    "import numpy as np\n",
    "import pandas as pd\n",
    "import seaborn as sns\n",
    "import statsmodels.formula.api as smf\n",
    "from sklearn import linear_model\n",
    "from sklearn.model_selection import cross_val_score\n",
    "from sklearn.model_selection import train_test_split\n",
    "\n",
    "%matplotlib inline"
   ]
  },
  {
   "cell_type": "code",
   "execution_count": 2,
   "metadata": {},
   "outputs": [],
   "source": [
    "ny_crime = pd.read_excel('crime_in_ny_state.xls', header=4, nrows=348)\n",
    "ny_crime = ny_crime.rename(columns= {'City':'city', 'Population':'pop', \n",
    "                          'Violent\\ncrime':'violent_crime', \n",
    "                          'Murder and\\nnonnegligent\\nmanslaughter': 'murder',\n",
    "                          'Rape\\n(revised\\ndefinition)1': 'rape_new',\n",
    "                          'Rape\\n(legacy\\ndefinition)2': 'rape_old', \n",
    "                          'Robbery': 'robbery', \n",
    "                          'Aggravated\\nassault': 'assault', \n",
    "                          'Property\\ncrime': 'property_crime', \n",
    "                          'Burglary': 'burglary', \n",
    "                          'Larceny-\\ntheft': 'larceny', \n",
    "                          'Motor\\nvehicle\\ntheft':'vehicle_theft', \n",
    "                          'Arson3':'arson'})"
   ]
  },
  {
   "cell_type": "code",
   "execution_count": 3,
   "metadata": {},
   "outputs": [],
   "source": [
    "ny_crime_no_ny = ny_crime.loc[ny_crime.murder < 300, ]"
   ]
  },
  {
   "cell_type": "code",
   "execution_count": 4,
   "metadata": {},
   "outputs": [
    {
     "data": {
      "text/html": [
       "<div>\n",
       "<style scoped>\n",
       "    .dataframe tbody tr th:only-of-type {\n",
       "        vertical-align: middle;\n",
       "    }\n",
       "\n",
       "    .dataframe tbody tr th {\n",
       "        vertical-align: top;\n",
       "    }\n",
       "\n",
       "    .dataframe thead th {\n",
       "        text-align: right;\n",
       "    }\n",
       "</style>\n",
       "<table border=\"1\" class=\"dataframe\">\n",
       "  <thead>\n",
       "    <tr style=\"text-align: right;\">\n",
       "      <th></th>\n",
       "      <th>city</th>\n",
       "      <th>pop</th>\n",
       "      <th>violent_crime</th>\n",
       "      <th>murder</th>\n",
       "      <th>rape_new</th>\n",
       "      <th>rape_old</th>\n",
       "      <th>robbery</th>\n",
       "      <th>assault</th>\n",
       "      <th>property_crime</th>\n",
       "      <th>burglary</th>\n",
       "      <th>larceny</th>\n",
       "      <th>vehicle_theft</th>\n",
       "      <th>arson</th>\n",
       "    </tr>\n",
       "  </thead>\n",
       "  <tbody>\n",
       "    <tr>\n",
       "      <th>0</th>\n",
       "      <td>Adams Village</td>\n",
       "      <td>1861</td>\n",
       "      <td>0</td>\n",
       "      <td>0</td>\n",
       "      <td>NaN</td>\n",
       "      <td>0</td>\n",
       "      <td>0</td>\n",
       "      <td>0</td>\n",
       "      <td>12</td>\n",
       "      <td>2</td>\n",
       "      <td>10</td>\n",
       "      <td>0</td>\n",
       "      <td>0.0</td>\n",
       "    </tr>\n",
       "    <tr>\n",
       "      <th>1</th>\n",
       "      <td>Addison Town and Village</td>\n",
       "      <td>2577</td>\n",
       "      <td>3</td>\n",
       "      <td>0</td>\n",
       "      <td>NaN</td>\n",
       "      <td>0</td>\n",
       "      <td>0</td>\n",
       "      <td>3</td>\n",
       "      <td>24</td>\n",
       "      <td>3</td>\n",
       "      <td>20</td>\n",
       "      <td>1</td>\n",
       "      <td>0.0</td>\n",
       "    </tr>\n",
       "    <tr>\n",
       "      <th>2</th>\n",
       "      <td>Akron Village</td>\n",
       "      <td>2846</td>\n",
       "      <td>3</td>\n",
       "      <td>0</td>\n",
       "      <td>NaN</td>\n",
       "      <td>0</td>\n",
       "      <td>0</td>\n",
       "      <td>3</td>\n",
       "      <td>16</td>\n",
       "      <td>1</td>\n",
       "      <td>15</td>\n",
       "      <td>0</td>\n",
       "      <td>0.0</td>\n",
       "    </tr>\n",
       "    <tr>\n",
       "      <th>3</th>\n",
       "      <td>Albany</td>\n",
       "      <td>97956</td>\n",
       "      <td>791</td>\n",
       "      <td>8</td>\n",
       "      <td>NaN</td>\n",
       "      <td>30</td>\n",
       "      <td>227</td>\n",
       "      <td>526</td>\n",
       "      <td>4090</td>\n",
       "      <td>705</td>\n",
       "      <td>3243</td>\n",
       "      <td>142</td>\n",
       "      <td>NaN</td>\n",
       "    </tr>\n",
       "    <tr>\n",
       "      <th>4</th>\n",
       "      <td>Albion Village</td>\n",
       "      <td>6388</td>\n",
       "      <td>23</td>\n",
       "      <td>0</td>\n",
       "      <td>NaN</td>\n",
       "      <td>3</td>\n",
       "      <td>4</td>\n",
       "      <td>16</td>\n",
       "      <td>223</td>\n",
       "      <td>53</td>\n",
       "      <td>165</td>\n",
       "      <td>5</td>\n",
       "      <td>NaN</td>\n",
       "    </tr>\n",
       "  </tbody>\n",
       "</table>\n",
       "</div>"
      ],
      "text/plain": [
       "                       city    pop  violent_crime  murder  rape_new  rape_old  \\\n",
       "0             Adams Village   1861              0       0       NaN         0   \n",
       "1  Addison Town and Village   2577              3       0       NaN         0   \n",
       "2             Akron Village   2846              3       0       NaN         0   \n",
       "3                    Albany  97956            791       8       NaN        30   \n",
       "4            Albion Village   6388             23       0       NaN         3   \n",
       "\n",
       "   robbery  assault  property_crime  burglary  larceny  vehicle_theft  arson  \n",
       "0        0        0              12         2       10              0    0.0  \n",
       "1        0        3              24         3       20              1    0.0  \n",
       "2        0        3              16         1       15              0    0.0  \n",
       "3      227      526            4090       705     3243            142    NaN  \n",
       "4        4       16             223        53      165              5    NaN  "
      ]
     },
     "execution_count": 4,
     "metadata": {},
     "output_type": "execute_result"
    }
   ],
   "source": [
    "ny_crime_no_ny.head()"
   ]
  },
  {
   "cell_type": "code",
   "execution_count": 5,
   "metadata": {},
   "outputs": [],
   "source": [
    "features = pd.DataFrame()\n",
    "features['pop'] = ny_crime_no_ny['pop']\n",
    "features['murder_cat'] = np.where(ny_crime_no_ny['murder'] >0, 1, 0)\n",
    "features['robbery_cat'] = np.where(ny_crime_no_ny['robbery'] >0, 1, 0)\n",
    "features['rape'] = ny_crime_no_ny['rape_old']\n",
    "features['assault'] = ny_crime_no_ny['assault']\n"
   ]
  },
  {
   "cell_type": "markdown",
   "metadata": {},
   "source": [
    "## Model 1 - Murder, Robbery and Rape"
   ]
  },
  {
   "cell_type": "code",
   "execution_count": 6,
   "metadata": {},
   "outputs": [],
   "source": [
    "regr_1 = linear_model.LinearRegression()\n",
    "Y_1 = ny_crime_no_ny['property_crime'].values.reshape(-1, 1)\n",
    "X_1 = features[['murder_cat', 'robbery_cat', 'rape']]"
   ]
  },
  {
   "cell_type": "markdown",
   "metadata": {},
   "source": [
    "#### Overall"
   ]
  },
  {
   "cell_type": "code",
   "execution_count": 7,
   "metadata": {},
   "outputs": [
    {
     "data": {
      "text/plain": [
       "0.9103158817754645"
      ]
     },
     "execution_count": 7,
     "metadata": {},
     "output_type": "execute_result"
    }
   ],
   "source": [
    "regr_1.fit(X_1, Y_1)\n",
    "regr_1.score(X_1, Y_1)"
   ]
  },
  {
   "cell_type": "markdown",
   "metadata": {},
   "source": [
    "#### Cross validation"
   ]
  },
  {
   "cell_type": "code",
   "execution_count": 8,
   "metadata": {},
   "outputs": [
    {
     "name": "stdout",
     "output_type": "stream",
     "text": [
      "R-squareds:  [0.93330734 0.49402076 0.48078547 0.89270774 0.94566537]\n",
      "Mean:  0.7492973349359011\n"
     ]
    }
   ],
   "source": [
    "r_sq_1 = cross_val_score(regr_1, X_1, Y_1, cv=5, scoring='explained_variance')\n",
    "print('R-squareds: ', r_sq_1)\n",
    "print('Mean: ', np.mean(r_sq_1))"
   ]
  },
  {
   "cell_type": "markdown",
   "metadata": {},
   "source": [
    "#### Calculate again using statsmodels"
   ]
  },
  {
   "cell_type": "code",
   "execution_count": 9,
   "metadata": {},
   "outputs": [],
   "source": [
    "features['prop_crime'] = ny_crime_no_ny['property_crime']"
   ]
  },
  {
   "cell_type": "code",
   "execution_count": 10,
   "metadata": {},
   "outputs": [],
   "source": [
    "linear_model_1 = 'prop_crime ~ murder_cat+robbery_cat+rape'\n",
    "\n",
    "lm_1 = smf.ols(formula=linear_model_1, data=features).fit()"
   ]
  },
  {
   "cell_type": "code",
   "execution_count": 11,
   "metadata": {},
   "outputs": [
    {
     "data": {
      "text/plain": [
       "0.9103158817754646"
      ]
     },
     "execution_count": 11,
     "metadata": {},
     "output_type": "execute_result"
    }
   ],
   "source": [
    "lm_1.rsquared ## Should be same as overall"
   ]
  },
  {
   "cell_type": "code",
   "execution_count": 12,
   "metadata": {},
   "outputs": [
    {
     "data": {
      "text/plain": [
       "Intercept       2.585257e-01\n",
       "murder_cat      5.400710e-03\n",
       "robbery_cat     5.883712e-06\n",
       "rape           1.232519e-163\n",
       "dtype: float64"
      ]
     },
     "execution_count": 12,
     "metadata": {},
     "output_type": "execute_result"
    }
   ],
   "source": [
    "lm_1.pvalues"
   ]
  },
  {
   "cell_type": "markdown",
   "metadata": {},
   "source": [
    "Intercept is not statistically significant."
   ]
  },
  {
   "cell_type": "markdown",
   "metadata": {},
   "source": [
    "## Model 2 - Murder, Robbery and Assault"
   ]
  },
  {
   "cell_type": "code",
   "execution_count": 13,
   "metadata": {},
   "outputs": [],
   "source": [
    "regr_2 = linear_model.LinearRegression()\n",
    "Y_2 = ny_crime_no_ny['property_crime'].values.reshape(-1, 1)\n",
    "X_2 = features[['murder_cat', 'robbery_cat', 'assault']]"
   ]
  },
  {
   "cell_type": "markdown",
   "metadata": {},
   "source": [
    "#### Overall"
   ]
  },
  {
   "cell_type": "code",
   "execution_count": 14,
   "metadata": {},
   "outputs": [
    {
     "data": {
      "text/plain": [
       "0.8984655801628051"
      ]
     },
     "execution_count": 14,
     "metadata": {},
     "output_type": "execute_result"
    }
   ],
   "source": [
    "regr_2.fit(X_2, Y_2)\n",
    "regr_2.score(X_2, Y_2)"
   ]
  },
  {
   "cell_type": "markdown",
   "metadata": {},
   "source": [
    "#### Cross validation"
   ]
  },
  {
   "cell_type": "code",
   "execution_count": 15,
   "metadata": {},
   "outputs": [
    {
     "name": "stdout",
     "output_type": "stream",
     "text": [
      "R-squareds:  [0.93932668 0.5413865  0.43857311 0.90160724 0.83289244]\n",
      "Mean:  0.7307571915282283\n"
     ]
    }
   ],
   "source": [
    "r_sq_2 = cross_val_score(regr_2, X_2, Y_2, cv=5, scoring='explained_variance')\n",
    "print('R-squareds: ', r_sq_2)\n",
    "print('Mean: ', np.mean(r_sq_2))"
   ]
  },
  {
   "cell_type": "markdown",
   "metadata": {},
   "source": [
    "#### Calculate again using statsmodels"
   ]
  },
  {
   "cell_type": "code",
   "execution_count": 16,
   "metadata": {},
   "outputs": [],
   "source": [
    "linear_formula_2 = 'prop_crime ~ murder_cat+robbery_cat+assault'\n",
    "lm_2 = smf.ols(formula=linear_formula_2, data = features).fit()"
   ]
  },
  {
   "cell_type": "code",
   "execution_count": 17,
   "metadata": {},
   "outputs": [
    {
     "data": {
      "text/plain": [
       "0.898465580162805"
      ]
     },
     "execution_count": 17,
     "metadata": {},
     "output_type": "execute_result"
    }
   ],
   "source": [
    "lm_2.rsquared"
   ]
  },
  {
   "cell_type": "code",
   "execution_count": 18,
   "metadata": {},
   "outputs": [
    {
     "data": {
      "text/plain": [
       "Intercept       2.828603e-01\n",
       "murder_cat      1.559155e-01\n",
       "robbery_cat     1.288357e-07\n",
       "assault        2.177542e-154\n",
       "dtype: float64"
      ]
     },
     "execution_count": 18,
     "metadata": {},
     "output_type": "execute_result"
    }
   ],
   "source": [
    "lm_2.pvalues"
   ]
  },
  {
   "cell_type": "markdown",
   "metadata": {},
   "source": [
    "Intercept and murder are not statistically significant this time."
   ]
  },
  {
   "cell_type": "markdown",
   "metadata": {},
   "source": [
    "## Model 3 - Murder, Robbery and Population"
   ]
  },
  {
   "cell_type": "code",
   "execution_count": 19,
   "metadata": {},
   "outputs": [],
   "source": [
    "regr_3 = linear_model.LinearRegression()\n",
    "Y_3 = ny_crime_no_ny['property_crime'].values.reshape(-1, 1)\n",
    "X_3 = features[['murder_cat', 'robbery_cat', 'pop']]"
   ]
  },
  {
   "cell_type": "markdown",
   "metadata": {},
   "source": [
    "#### Overall"
   ]
  },
  {
   "cell_type": "code",
   "execution_count": 20,
   "metadata": {},
   "outputs": [
    {
     "data": {
      "text/plain": [
       "0.7889428000907828"
      ]
     },
     "execution_count": 20,
     "metadata": {},
     "output_type": "execute_result"
    }
   ],
   "source": [
    "regr_3.fit(X_3, Y_3)\n",
    "regr_3.score(X_3, Y_3)"
   ]
  },
  {
   "cell_type": "markdown",
   "metadata": {},
   "source": [
    "#### Cross validation"
   ]
  },
  {
   "cell_type": "code",
   "execution_count": 21,
   "metadata": {},
   "outputs": [
    {
     "name": "stdout",
     "output_type": "stream",
     "text": [
      "R-squareds:  [0.82903036 0.44692663 0.40281642 0.80032172 0.46571   ]\n",
      "Mean:  0.5889610249048312\n"
     ]
    }
   ],
   "source": [
    "r_sq_3 = cross_val_score(regr_3, X_3, Y_3, cv=5, scoring='explained_variance')\n",
    "print('R-squareds: ', r_sq_3)\n",
    "print('Mean: ', np.mean(r_sq_3))"
   ]
  },
  {
   "cell_type": "markdown",
   "metadata": {},
   "source": [
    "#### Calculate using statsmodels"
   ]
  },
  {
   "cell_type": "code",
   "execution_count": 22,
   "metadata": {},
   "outputs": [],
   "source": [
    "linear_formula_3 = 'prop_crime ~ murder_cat+robbery_cat+pop'\n",
    "\n",
    "lm_3 = smf.ols(formula=linear_formula_3, data=features).fit()"
   ]
  },
  {
   "cell_type": "code",
   "execution_count": 23,
   "metadata": {},
   "outputs": [
    {
     "data": {
      "text/plain": [
       "0.7889428000907828"
      ]
     },
     "execution_count": 23,
     "metadata": {},
     "output_type": "execute_result"
    }
   ],
   "source": [
    "lm_3.rsquared"
   ]
  },
  {
   "cell_type": "code",
   "execution_count": 24,
   "metadata": {},
   "outputs": [
    {
     "data": {
      "text/plain": [
       "Intercept       8.205933e-03\n",
       "murder_cat      8.692678e-01\n",
       "robbery_cat     9.624259e-02\n",
       "pop            7.517475e-100\n",
       "dtype: float64"
      ]
     },
     "execution_count": 24,
     "metadata": {},
     "output_type": "execute_result"
    }
   ],
   "source": [
    "lm_3.pvalues"
   ]
  },
  {
   "cell_type": "markdown",
   "metadata": {},
   "source": [
    "Neither murder_cat or robbery_cat are statistically significant in this model."
   ]
  },
  {
   "cell_type": "markdown",
   "metadata": {},
   "source": [
    "## Conclusions from cross validation"
   ]
  },
  {
   "cell_type": "markdown",
   "metadata": {},
   "source": [
    "Model 1 performs the best in terms of explained variance, both overall and through cross validation. It also has the most statistically significant terms. This model is therefore the one chosen to move onto the next stage - validation against another data set."
   ]
  },
  {
   "cell_type": "markdown",
   "metadata": {},
   "source": [
    "## Validation on another data set - 2014 (original = 2013)"
   ]
  },
  {
   "cell_type": "code",
   "execution_count": 25,
   "metadata": {},
   "outputs": [],
   "source": [
    "ny_crime_2014 = pd.read_excel('crime_in_ny_state_2014.xls', header=4, nrows=369)"
   ]
  },
  {
   "cell_type": "code",
   "execution_count": 26,
   "metadata": {},
   "outputs": [
    {
     "data": {
      "text/html": [
       "<div>\n",
       "<style scoped>\n",
       "    .dataframe tbody tr th:only-of-type {\n",
       "        vertical-align: middle;\n",
       "    }\n",
       "\n",
       "    .dataframe tbody tr th {\n",
       "        vertical-align: top;\n",
       "    }\n",
       "\n",
       "    .dataframe thead th {\n",
       "        text-align: right;\n",
       "    }\n",
       "</style>\n",
       "<table border=\"1\" class=\"dataframe\">\n",
       "  <thead>\n",
       "    <tr style=\"text-align: right;\">\n",
       "      <th></th>\n",
       "      <th>City</th>\n",
       "      <th>Population</th>\n",
       "      <th>Violent\n",
       "crime</th>\n",
       "      <th>Murder and\n",
       "nonnegligent\n",
       "manslaughter</th>\n",
       "      <th>Rape\n",
       "(revised\n",
       "definition)1</th>\n",
       "      <th>Rape\n",
       "(legacy\n",
       "definition)2</th>\n",
       "      <th>Robbery</th>\n",
       "      <th>Aggravated\n",
       "assault</th>\n",
       "      <th>Property\n",
       "crime</th>\n",
       "      <th>Burglary</th>\n",
       "      <th>Larceny-\n",
       "theft</th>\n",
       "      <th>Motor\n",
       "vehicle\n",
       "theft</th>\n",
       "      <th>Arson3</th>\n",
       "    </tr>\n",
       "  </thead>\n",
       "  <tbody>\n",
       "    <tr>\n",
       "      <th>0</th>\n",
       "      <td>Adams Village</td>\n",
       "      <td>1851</td>\n",
       "      <td>0</td>\n",
       "      <td>0</td>\n",
       "      <td>NaN</td>\n",
       "      <td>0.0</td>\n",
       "      <td>0</td>\n",
       "      <td>0</td>\n",
       "      <td>11.0</td>\n",
       "      <td>1</td>\n",
       "      <td>10.0</td>\n",
       "      <td>0</td>\n",
       "      <td>0.0</td>\n",
       "    </tr>\n",
       "    <tr>\n",
       "      <th>1</th>\n",
       "      <td>Addison Town and Village</td>\n",
       "      <td>2568</td>\n",
       "      <td>2</td>\n",
       "      <td>0</td>\n",
       "      <td>NaN</td>\n",
       "      <td>0.0</td>\n",
       "      <td>1</td>\n",
       "      <td>1</td>\n",
       "      <td>49.0</td>\n",
       "      <td>1</td>\n",
       "      <td>47.0</td>\n",
       "      <td>1</td>\n",
       "      <td>0.0</td>\n",
       "    </tr>\n",
       "    <tr>\n",
       "      <th>2</th>\n",
       "      <td>Afton Village4</td>\n",
       "      <td>820</td>\n",
       "      <td>0</td>\n",
       "      <td>0</td>\n",
       "      <td>0.0</td>\n",
       "      <td>NaN</td>\n",
       "      <td>0</td>\n",
       "      <td>0</td>\n",
       "      <td>1.0</td>\n",
       "      <td>0</td>\n",
       "      <td>1.0</td>\n",
       "      <td>0</td>\n",
       "      <td>0.0</td>\n",
       "    </tr>\n",
       "    <tr>\n",
       "      <th>3</th>\n",
       "      <td>Akron Village</td>\n",
       "      <td>2842</td>\n",
       "      <td>1</td>\n",
       "      <td>0</td>\n",
       "      <td>NaN</td>\n",
       "      <td>0.0</td>\n",
       "      <td>0</td>\n",
       "      <td>1</td>\n",
       "      <td>17.0</td>\n",
       "      <td>0</td>\n",
       "      <td>17.0</td>\n",
       "      <td>0</td>\n",
       "      <td>0.0</td>\n",
       "    </tr>\n",
       "    <tr>\n",
       "      <th>4</th>\n",
       "      <td>Albany4</td>\n",
       "      <td>98595</td>\n",
       "      <td>802</td>\n",
       "      <td>8</td>\n",
       "      <td>54.0</td>\n",
       "      <td>NaN</td>\n",
       "      <td>237</td>\n",
       "      <td>503</td>\n",
       "      <td>3888.0</td>\n",
       "      <td>683</td>\n",
       "      <td>3083.0</td>\n",
       "      <td>122</td>\n",
       "      <td>12.0</td>\n",
       "    </tr>\n",
       "  </tbody>\n",
       "</table>\n",
       "</div>"
      ],
      "text/plain": [
       "                       City  Population  Violent\\ncrime  \\\n",
       "0             Adams Village        1851               0   \n",
       "1  Addison Town and Village        2568               2   \n",
       "2            Afton Village4         820               0   \n",
       "3             Akron Village        2842               1   \n",
       "4                   Albany4       98595             802   \n",
       "\n",
       "   Murder and\\nnonnegligent\\nmanslaughter  Rape\\n(revised\\ndefinition)1  \\\n",
       "0                                       0                           NaN   \n",
       "1                                       0                           NaN   \n",
       "2                                       0                           0.0   \n",
       "3                                       0                           NaN   \n",
       "4                                       8                          54.0   \n",
       "\n",
       "   Rape\\n(legacy\\ndefinition)2  Robbery  Aggravated\\nassault  Property\\ncrime  \\\n",
       "0                          0.0        0                    0             11.0   \n",
       "1                          0.0        1                    1             49.0   \n",
       "2                          NaN        0                    0              1.0   \n",
       "3                          0.0        0                    1             17.0   \n",
       "4                          NaN      237                  503           3888.0   \n",
       "\n",
       "   Burglary  Larceny-\\ntheft  Motor\\nvehicle\\ntheft  Arson3  \n",
       "0         1             10.0                      0     0.0  \n",
       "1         1             47.0                      1     0.0  \n",
       "2         0              1.0                      0     0.0  \n",
       "3         0             17.0                      0     0.0  \n",
       "4       683           3083.0                    122    12.0  "
      ]
     },
     "execution_count": 26,
     "metadata": {},
     "output_type": "execute_result"
    }
   ],
   "source": [
    "ny_crime_2014.head()"
   ]
  },
  {
   "cell_type": "code",
   "execution_count": 27,
   "metadata": {},
   "outputs": [
    {
     "data": {
      "text/html": [
       "<div>\n",
       "<style scoped>\n",
       "    .dataframe tbody tr th:only-of-type {\n",
       "        vertical-align: middle;\n",
       "    }\n",
       "\n",
       "    .dataframe tbody tr th {\n",
       "        vertical-align: top;\n",
       "    }\n",
       "\n",
       "    .dataframe thead th {\n",
       "        text-align: right;\n",
       "    }\n",
       "</style>\n",
       "<table border=\"1\" class=\"dataframe\">\n",
       "  <thead>\n",
       "    <tr style=\"text-align: right;\">\n",
       "      <th></th>\n",
       "      <th>City</th>\n",
       "      <th>Population</th>\n",
       "      <th>Violent\n",
       "crime</th>\n",
       "      <th>Murder and\n",
       "nonnegligent\n",
       "manslaughter</th>\n",
       "      <th>Rape\n",
       "(revised\n",
       "definition)1</th>\n",
       "      <th>Rape\n",
       "(legacy\n",
       "definition)2</th>\n",
       "      <th>Robbery</th>\n",
       "      <th>Aggravated\n",
       "assault</th>\n",
       "      <th>Property\n",
       "crime</th>\n",
       "      <th>Burglary</th>\n",
       "      <th>Larceny-\n",
       "theft</th>\n",
       "      <th>Motor\n",
       "vehicle\n",
       "theft</th>\n",
       "      <th>Arson3</th>\n",
       "    </tr>\n",
       "  </thead>\n",
       "  <tbody>\n",
       "    <tr>\n",
       "      <th>364</th>\n",
       "      <td>Woodbury Town4, 5</td>\n",
       "      <td>10739</td>\n",
       "      <td>4</td>\n",
       "      <td>0</td>\n",
       "      <td>0.0</td>\n",
       "      <td>NaN</td>\n",
       "      <td>1</td>\n",
       "      <td>3</td>\n",
       "      <td>NaN</td>\n",
       "      <td>5</td>\n",
       "      <td>NaN</td>\n",
       "      <td>0</td>\n",
       "      <td>0.0</td>\n",
       "    </tr>\n",
       "    <tr>\n",
       "      <th>365</th>\n",
       "      <td>Woodstock Town4</td>\n",
       "      <td>5907</td>\n",
       "      <td>3</td>\n",
       "      <td>0</td>\n",
       "      <td>1.0</td>\n",
       "      <td>NaN</td>\n",
       "      <td>2</td>\n",
       "      <td>0</td>\n",
       "      <td>43.0</td>\n",
       "      <td>14</td>\n",
       "      <td>29.0</td>\n",
       "      <td>0</td>\n",
       "      <td>0.0</td>\n",
       "    </tr>\n",
       "    <tr>\n",
       "      <th>366</th>\n",
       "      <td>Yonkers4</td>\n",
       "      <td>200624</td>\n",
       "      <td>974</td>\n",
       "      <td>3</td>\n",
       "      <td>33.0</td>\n",
       "      <td>NaN</td>\n",
       "      <td>358</td>\n",
       "      <td>580</td>\n",
       "      <td>2009.0</td>\n",
       "      <td>414</td>\n",
       "      <td>1395.0</td>\n",
       "      <td>200</td>\n",
       "      <td>15.0</td>\n",
       "    </tr>\n",
       "    <tr>\n",
       "      <th>367</th>\n",
       "      <td>Yorktown Town4</td>\n",
       "      <td>36989</td>\n",
       "      <td>13</td>\n",
       "      <td>0</td>\n",
       "      <td>0.0</td>\n",
       "      <td>NaN</td>\n",
       "      <td>0</td>\n",
       "      <td>13</td>\n",
       "      <td>209.0</td>\n",
       "      <td>24</td>\n",
       "      <td>182.0</td>\n",
       "      <td>3</td>\n",
       "      <td>0.0</td>\n",
       "    </tr>\n",
       "    <tr>\n",
       "      <th>368</th>\n",
       "      <td>Youngstown Village4</td>\n",
       "      <td>1896</td>\n",
       "      <td>0</td>\n",
       "      <td>0</td>\n",
       "      <td>0.0</td>\n",
       "      <td>NaN</td>\n",
       "      <td>0</td>\n",
       "      <td>0</td>\n",
       "      <td>1.0</td>\n",
       "      <td>0</td>\n",
       "      <td>1.0</td>\n",
       "      <td>0</td>\n",
       "      <td>0.0</td>\n",
       "    </tr>\n",
       "  </tbody>\n",
       "</table>\n",
       "</div>"
      ],
      "text/plain": [
       "                    City  Population  Violent\\ncrime  \\\n",
       "364    Woodbury Town4, 5       10739               4   \n",
       "365      Woodstock Town4        5907               3   \n",
       "366             Yonkers4      200624             974   \n",
       "367       Yorktown Town4       36989              13   \n",
       "368  Youngstown Village4        1896               0   \n",
       "\n",
       "     Murder and\\nnonnegligent\\nmanslaughter  Rape\\n(revised\\ndefinition)1  \\\n",
       "364                                       0                           0.0   \n",
       "365                                       0                           1.0   \n",
       "366                                       3                          33.0   \n",
       "367                                       0                           0.0   \n",
       "368                                       0                           0.0   \n",
       "\n",
       "     Rape\\n(legacy\\ndefinition)2  Robbery  Aggravated\\nassault  \\\n",
       "364                          NaN        1                    3   \n",
       "365                          NaN        2                    0   \n",
       "366                          NaN      358                  580   \n",
       "367                          NaN        0                   13   \n",
       "368                          NaN        0                    0   \n",
       "\n",
       "     Property\\ncrime  Burglary  Larceny-\\ntheft  Motor\\nvehicle\\ntheft  Arson3  \n",
       "364              NaN         5              NaN                      0     0.0  \n",
       "365             43.0        14             29.0                      0     0.0  \n",
       "366           2009.0       414           1395.0                    200    15.0  \n",
       "367            209.0        24            182.0                      3     0.0  \n",
       "368              1.0         0              1.0                      0     0.0  "
      ]
     },
     "execution_count": 27,
     "metadata": {},
     "output_type": "execute_result"
    }
   ],
   "source": [
    "ny_crime_2014.tail()"
   ]
  },
  {
   "cell_type": "markdown",
   "metadata": {},
   "source": [
    "Unfortunately the rape definition has changed meaning the new data may not be modeled as well by the chosen model. However, I will assume the changes are minimal and proceed to validate model 1."
   ]
  },
  {
   "cell_type": "markdown",
   "metadata": {},
   "source": [
    "### Check and clean validation dataset"
   ]
  },
  {
   "cell_type": "code",
   "execution_count": 28,
   "metadata": {},
   "outputs": [],
   "source": [
    "ny_crime_2014 = ny_crime_2014.rename(columns= {'City':'city', 'Population':'pop', \n",
    "                          'Violent\\ncrime':'violent_crime', \n",
    "                          'Murder and\\nnonnegligent\\nmanslaughter': 'murder',\n",
    "                          'Rape\\n(revised\\ndefinition)1': 'rape_new',\n",
    "                          'Rape\\n(legacy\\ndefinition)2': 'rape_old', \n",
    "                          'Robbery': 'robbery', \n",
    "                          'Aggravated\\nassault': 'assault', \n",
    "                          'Property\\ncrime': 'property_crime', \n",
    "                          'Burglary': 'burglary', \n",
    "                          'Larceny-\\ntheft': 'larceny', \n",
    "                          'Motor\\nvehicle\\ntheft':'vehicle_theft', \n",
    "                          'Arson3':'arson'})"
   ]
  },
  {
   "cell_type": "code",
   "execution_count": 29,
   "metadata": {},
   "outputs": [
    {
     "data": {
      "text/plain": [
       "Index(['city', 'pop', 'violent_crime', 'murder', 'rape_new', 'rape_old',\n",
       "       'robbery', 'assault', 'property_crime', 'burglary', 'larceny',\n",
       "       'vehicle_theft', 'arson'],\n",
       "      dtype='object')"
      ]
     },
     "execution_count": 29,
     "metadata": {},
     "output_type": "execute_result"
    }
   ],
   "source": [
    "ny_crime_2014.columns"
   ]
  },
  {
   "cell_type": "code",
   "execution_count": 30,
   "metadata": {},
   "outputs": [
    {
     "data": {
      "text/plain": [
       "1"
      ]
     },
     "execution_count": 30,
     "metadata": {},
     "output_type": "execute_result"
    }
   ],
   "source": [
    "sum(np.isnan(ny_crime_2014['property_crime']))"
   ]
  },
  {
   "cell_type": "code",
   "execution_count": 31,
   "metadata": {},
   "outputs": [
    {
     "data": {
      "text/html": [
       "<div>\n",
       "<style scoped>\n",
       "    .dataframe tbody tr th:only-of-type {\n",
       "        vertical-align: middle;\n",
       "    }\n",
       "\n",
       "    .dataframe tbody tr th {\n",
       "        vertical-align: top;\n",
       "    }\n",
       "\n",
       "    .dataframe thead th {\n",
       "        text-align: right;\n",
       "    }\n",
       "</style>\n",
       "<table border=\"1\" class=\"dataframe\">\n",
       "  <thead>\n",
       "    <tr style=\"text-align: right;\">\n",
       "      <th></th>\n",
       "      <th>city</th>\n",
       "      <th>pop</th>\n",
       "      <th>violent_crime</th>\n",
       "      <th>murder</th>\n",
       "      <th>rape_new</th>\n",
       "      <th>rape_old</th>\n",
       "      <th>robbery</th>\n",
       "      <th>assault</th>\n",
       "      <th>property_crime</th>\n",
       "      <th>burglary</th>\n",
       "      <th>larceny</th>\n",
       "      <th>vehicle_theft</th>\n",
       "      <th>arson</th>\n",
       "    </tr>\n",
       "  </thead>\n",
       "  <tbody>\n",
       "    <tr>\n",
       "      <th>364</th>\n",
       "      <td>Woodbury Town4, 5</td>\n",
       "      <td>10739</td>\n",
       "      <td>4</td>\n",
       "      <td>0</td>\n",
       "      <td>0.0</td>\n",
       "      <td>NaN</td>\n",
       "      <td>1</td>\n",
       "      <td>3</td>\n",
       "      <td>NaN</td>\n",
       "      <td>5</td>\n",
       "      <td>NaN</td>\n",
       "      <td>0</td>\n",
       "      <td>0.0</td>\n",
       "    </tr>\n",
       "  </tbody>\n",
       "</table>\n",
       "</div>"
      ],
      "text/plain": [
       "                  city    pop  violent_crime  murder  rape_new  rape_old  \\\n",
       "364  Woodbury Town4, 5  10739              4       0       0.0       NaN   \n",
       "\n",
       "     robbery  assault  property_crime  burglary  larceny  vehicle_theft  arson  \n",
       "364        1        3             NaN         5      NaN              0    0.0  "
      ]
     },
     "execution_count": 31,
     "metadata": {},
     "output_type": "execute_result"
    }
   ],
   "source": [
    "ny_crime_2014.loc[np.isnan(ny_crime_2014['property_crime']),]"
   ]
  },
  {
   "cell_type": "code",
   "execution_count": 32,
   "metadata": {},
   "outputs": [
    {
     "data": {
      "text/html": [
       "<div>\n",
       "<style scoped>\n",
       "    .dataframe tbody tr th:only-of-type {\n",
       "        vertical-align: middle;\n",
       "    }\n",
       "\n",
       "    .dataframe tbody tr th {\n",
       "        vertical-align: top;\n",
       "    }\n",
       "\n",
       "    .dataframe thead th {\n",
       "        text-align: right;\n",
       "    }\n",
       "</style>\n",
       "<table border=\"1\" class=\"dataframe\">\n",
       "  <thead>\n",
       "    <tr style=\"text-align: right;\">\n",
       "      <th></th>\n",
       "      <th>index</th>\n",
       "      <th>city</th>\n",
       "      <th>pop</th>\n",
       "      <th>violent_crime</th>\n",
       "      <th>murder</th>\n",
       "      <th>rape_new</th>\n",
       "      <th>rape_old</th>\n",
       "      <th>robbery</th>\n",
       "      <th>assault</th>\n",
       "      <th>property_crime</th>\n",
       "      <th>burglary</th>\n",
       "      <th>larceny</th>\n",
       "      <th>vehicle_theft</th>\n",
       "      <th>arson</th>\n",
       "    </tr>\n",
       "  </thead>\n",
       "  <tbody>\n",
       "  </tbody>\n",
       "</table>\n",
       "</div>"
      ],
      "text/plain": [
       "Empty DataFrame\n",
       "Columns: [index, city, pop, violent_crime, murder, rape_new, rape_old, robbery, assault, property_crime, burglary, larceny, vehicle_theft, arson]\n",
       "Index: []"
      ]
     },
     "execution_count": 32,
     "metadata": {},
     "output_type": "execute_result"
    }
   ],
   "source": [
    "## Cannot predict if no outcome value so drop\n",
    "\n",
    "ny_crime_2014.drop(364, axis=0, inplace=True)\n",
    "ny_crime_2014.reset_index(inplace=True)\n",
    "ny_crime_2014.loc[np.isnan(ny_crime_2014['property_crime']),]"
   ]
  },
  {
   "cell_type": "code",
   "execution_count": 33,
   "metadata": {},
   "outputs": [],
   "source": [
    "features_2014 = pd.DataFrame()\n",
    "features_2014['prop_crime'] = ny_crime_2014['property_crime']"
   ]
  },
  {
   "cell_type": "code",
   "execution_count": 34,
   "metadata": {},
   "outputs": [
    {
     "data": {
      "text/plain": [
       "array([ 0., nan,  1.])"
      ]
     },
     "execution_count": 34,
     "metadata": {},
     "output_type": "execute_result"
    }
   ],
   "source": [
    "ny_crime_2014.rape_old.unique()"
   ]
  },
  {
   "cell_type": "code",
   "execution_count": 35,
   "metadata": {},
   "outputs": [
    {
     "data": {
      "text/plain": [
       "array([     nan, 0.00e+00, 5.40e+01, 3.00e+00, 1.00e+00, 1.60e+01,\n",
       "       1.70e+01, 7.00e+00, 4.90e+01, 4.00e+00, 1.74e+02, 1.80e+01,\n",
       "       2.00e+00, 2.50e+01, 1.30e+01, 5.00e+00, 9.00e+00, 8.00e+00,\n",
       "       3.40e+01, 6.00e+00, 4.30e+01, 2.90e+01, 1.00e+01, 1.40e+01,\n",
       "       1.10e+01, 2.19e+03, 2.60e+01, 1.20e+01, 2.70e+01, 1.90e+02,\n",
       "       5.70e+01, 7.00e+01, 3.50e+01, 4.70e+01, 3.30e+01])"
      ]
     },
     "execution_count": 35,
     "metadata": {},
     "output_type": "execute_result"
    }
   ],
   "source": [
    "ny_crime_2014.rape_new.unique()"
   ]
  },
  {
   "cell_type": "code",
   "execution_count": 36,
   "metadata": {
    "scrolled": true
   },
   "outputs": [
    {
     "data": {
      "text/plain": [
       "array([0.00e+00, 5.40e+01, 3.00e+00, 1.00e+00, 1.60e+01, 1.70e+01,\n",
       "       7.00e+00, 4.90e+01, 4.00e+00, 1.74e+02, 1.80e+01, 2.00e+00,\n",
       "       2.50e+01, 1.30e+01, 5.00e+00, 9.00e+00, 8.00e+00, 3.40e+01,\n",
       "       6.00e+00, 4.30e+01, 2.90e+01, 1.00e+01, 1.40e+01, 1.10e+01,\n",
       "       2.19e+03, 2.60e+01, 1.20e+01, 2.70e+01, 1.90e+02, 5.70e+01,\n",
       "       7.00e+01, 3.50e+01, 4.70e+01, 3.30e+01])"
      ]
     },
     "execution_count": 36,
     "metadata": {},
     "output_type": "execute_result"
    }
   ],
   "source": [
    "ny_crime_2014.loc[np.isnan(ny_crime_2014['rape_old']),'rape_new'].unique()"
   ]
  },
  {
   "cell_type": "code",
   "execution_count": 37,
   "metadata": {},
   "outputs": [],
   "source": [
    "features_2014['rape'] = np.where(np.isnan(ny_crime_2014['rape_old']), ny_crime_2014['rape_new'], ny_crime_2014['rape_old'])"
   ]
  },
  {
   "cell_type": "code",
   "execution_count": 38,
   "metadata": {},
   "outputs": [
    {
     "data": {
      "text/plain": [
       "0"
      ]
     },
     "execution_count": 38,
     "metadata": {},
     "output_type": "execute_result"
    }
   ],
   "source": [
    "sum(np.isnan(ny_crime_2014['murder']))"
   ]
  },
  {
   "cell_type": "code",
   "execution_count": 39,
   "metadata": {},
   "outputs": [
    {
     "data": {
      "text/plain": [
       "0"
      ]
     },
     "execution_count": 39,
     "metadata": {},
     "output_type": "execute_result"
    }
   ],
   "source": [
    "sum(np.isnan(ny_crime_2014['robbery']))"
   ]
  },
  {
   "cell_type": "code",
   "execution_count": 40,
   "metadata": {},
   "outputs": [],
   "source": [
    "features_2014['murder_cat'] = np.where(ny_crime_2014['murder'] > 0, 1, 0)\n",
    "features_2014['robbery_cat'] = np.where(ny_crime_2014['robbery'] > 0, 1, 0)"
   ]
  },
  {
   "cell_type": "code",
   "execution_count": 41,
   "metadata": {},
   "outputs": [
    {
     "data": {
      "text/html": [
       "<div>\n",
       "<style scoped>\n",
       "    .dataframe tbody tr th:only-of-type {\n",
       "        vertical-align: middle;\n",
       "    }\n",
       "\n",
       "    .dataframe tbody tr th {\n",
       "        vertical-align: top;\n",
       "    }\n",
       "\n",
       "    .dataframe thead th {\n",
       "        text-align: right;\n",
       "    }\n",
       "</style>\n",
       "<table border=\"1\" class=\"dataframe\">\n",
       "  <thead>\n",
       "    <tr style=\"text-align: right;\">\n",
       "      <th></th>\n",
       "      <th>prop_crime</th>\n",
       "      <th>rape</th>\n",
       "      <th>murder_cat</th>\n",
       "      <th>robbery_cat</th>\n",
       "    </tr>\n",
       "  </thead>\n",
       "  <tbody>\n",
       "    <tr>\n",
       "      <th>0</th>\n",
       "      <td>11.0</td>\n",
       "      <td>0.0</td>\n",
       "      <td>0</td>\n",
       "      <td>0</td>\n",
       "    </tr>\n",
       "    <tr>\n",
       "      <th>1</th>\n",
       "      <td>49.0</td>\n",
       "      <td>0.0</td>\n",
       "      <td>0</td>\n",
       "      <td>1</td>\n",
       "    </tr>\n",
       "    <tr>\n",
       "      <th>2</th>\n",
       "      <td>1.0</td>\n",
       "      <td>0.0</td>\n",
       "      <td>0</td>\n",
       "      <td>0</td>\n",
       "    </tr>\n",
       "    <tr>\n",
       "      <th>3</th>\n",
       "      <td>17.0</td>\n",
       "      <td>0.0</td>\n",
       "      <td>0</td>\n",
       "      <td>0</td>\n",
       "    </tr>\n",
       "    <tr>\n",
       "      <th>4</th>\n",
       "      <td>3888.0</td>\n",
       "      <td>54.0</td>\n",
       "      <td>1</td>\n",
       "      <td>1</td>\n",
       "    </tr>\n",
       "  </tbody>\n",
       "</table>\n",
       "</div>"
      ],
      "text/plain": [
       "   prop_crime  rape  murder_cat  robbery_cat\n",
       "0        11.0   0.0           0            0\n",
       "1        49.0   0.0           0            1\n",
       "2         1.0   0.0           0            0\n",
       "3        17.0   0.0           0            0\n",
       "4      3888.0  54.0           1            1"
      ]
     },
     "execution_count": 41,
     "metadata": {},
     "output_type": "execute_result"
    }
   ],
   "source": [
    "features_2014.head()"
   ]
  },
  {
   "cell_type": "code",
   "execution_count": 42,
   "metadata": {},
   "outputs": [
    {
     "data": {
      "text/plain": [
       "0"
      ]
     },
     "execution_count": 42,
     "metadata": {},
     "output_type": "execute_result"
    }
   ],
   "source": [
    "sum(np.isnan(features_2014.any()))"
   ]
  },
  {
   "cell_type": "markdown",
   "metadata": {},
   "source": [
    "### Validation testing"
   ]
  },
  {
   "cell_type": "code",
   "execution_count": 43,
   "metadata": {},
   "outputs": [
    {
     "data": {
      "text/plain": [
       "0.8162598472019031"
      ]
     },
     "execution_count": 43,
     "metadata": {},
     "output_type": "execute_result"
    }
   ],
   "source": [
    "X_2014 = features_2014[['murder_cat', 'robbery_cat', 'rape']]\n",
    "Y_2014 = features_2014['prop_crime'].values.reshape(-1, 1)\n",
    "\n",
    "regr_1.score(X_2014, Y_2014)"
   ]
  },
  {
   "cell_type": "code",
   "execution_count": 44,
   "metadata": {},
   "outputs": [
    {
     "data": {
      "text/plain": [
       "0.8162598472019011"
      ]
     },
     "execution_count": 44,
     "metadata": {},
     "output_type": "execute_result"
    }
   ],
   "source": [
    "## Check r-squared\n",
    "y_pred_2014 = lm_1.predict(X_2014)\n",
    "residuals_2014 = np.array(y_pred_2014) - features_2014['prop_crime']\n",
    "residuals_2014_sq = residuals_2014**2\n",
    "sse = sum(residuals_2014_sq)\n",
    "mean_2014 = np.mean(features_2014['prop_crime'])\n",
    "diffs_2014 = features_2014['prop_crime'] - mean_2014\n",
    "diffs_2014_sq = diffs_2014**2\n",
    "total_sum_sqs = sum(diffs_2014_sq)\n",
    "1-(sse/total_sum_sqs)"
   ]
  },
  {
   "cell_type": "markdown",
   "metadata": {},
   "source": [
    "#### Check residuals"
   ]
  },
  {
   "cell_type": "code",
   "execution_count": 45,
   "metadata": {},
   "outputs": [
    {
     "data": {
      "image/png": "[encoded data removed]",
      "text/plain": [
       "<Figure size 432x288 with 1 Axes>"
      ]
     },
     "metadata": {
      "needs_background": "light"
     },
     "output_type": "display_data"
    }
   ],
   "source": [
    "plt.scatter(y_pred_2014, residuals_2014)\n",
    "plt.axhline(y=0)\n",
    "plt.xlabel('Predicted')\n",
    "plt.ylabel('Residual')\n",
    "plt.show()"
   ]
  },
  {
   "cell_type": "code",
   "execution_count": 46,
   "metadata": {},
   "outputs": [
    {
     "data": {
      "image/png": "[encoded data removed]",
      "text/plain": [
       "<Figure size 432x288 with 1 Axes>"
      ]
     },
     "metadata": {
      "needs_background": "light"
     },
     "output_type": "display_data"
    }
   ],
   "source": [
    "## Remove largest point so can see graph\n",
    "\n",
    "plt.scatter(y_pred_2014, residuals_2014)\n",
    "plt.ylim(-5000, 10000)\n",
    "plt.xlim(-1000, 22000)\n",
    "plt.axhline(y=0)\n",
    "plt.xlabel('Predicted')\n",
    "plt.ylabel('Residual')\n",
    "plt.show()"
   ]
  },
  {
   "cell_type": "markdown",
   "metadata": {},
   "source": [
    "Predictions get much worse at higher end."
   ]
  },
  {
   "cell_type": "code",
   "execution_count": 47,
   "metadata": {},
   "outputs": [
    {
     "data": {
      "image/png": "[encoded data removed]",
      "text/plain": [
       "<Figure size 432x288 with 1 Axes>"
      ]
     },
     "metadata": {
      "needs_background": "light"
     },
     "output_type": "display_data"
    }
   ],
   "source": [
    "## Remove more higher points.\n",
    "\n",
    "plt.scatter(y_pred_2014, residuals_2014)\n",
    "plt.ylim(-5000, 4000)\n",
    "plt.xlim(-1000, 8000)\n",
    "plt.axhline(y=0)\n",
    "plt.xlabel('Predicted')\n",
    "plt.ylabel('Residual')\n",
    "plt.show()"
   ]
  },
  {
   "cell_type": "markdown",
   "metadata": {},
   "source": [
    "Definitely under-predicts as values increase."
   ]
  },
  {
   "cell_type": "code",
   "execution_count": 48,
   "metadata": {},
   "outputs": [
    {
     "data": {
      "image/png": "[encoded data removed]",
      "text/plain": [
       "<Figure size 432x288 with 1 Axes>"
      ]
     },
     "metadata": {
      "needs_background": "light"
     },
     "output_type": "display_data"
    }
   ],
   "source": [
    "plt.hist(residuals_2014.loc[residuals_2014<20000])\n",
    "plt.show()"
   ]
  },
  {
   "cell_type": "markdown",
   "metadata": {},
   "source": [
    "This is skewed.<br>\n",
    "\n",
    "It looks like it could be a squared relationship. I will try including a square. <br>\n",
    "\n",
    "## Adjust original model to include a square"
   ]
  },
  {
   "cell_type": "markdown",
   "metadata": {},
   "source": [
    "#### Create new feature and new model"
   ]
  },
  {
   "cell_type": "code",
   "execution_count": 49,
   "metadata": {},
   "outputs": [],
   "source": [
    "features['rape_sq'] = features['rape']**2"
   ]
  },
  {
   "cell_type": "code",
   "execution_count": 50,
   "metadata": {},
   "outputs": [
    {
     "data": {
      "text/plain": [
       "0.8062428078158009"
      ]
     },
     "execution_count": 50,
     "metadata": {},
     "output_type": "execute_result"
    }
   ],
   "source": [
    "regr_4 = linear_model.LinearRegression()\n",
    "X_4 = features[['murder_cat', 'robbery_cat', 'rape_sq']]\n",
    "Y_4 = features['prop_crime'].values.reshape(-1, 1)\n",
    "regr_4.fit(X_4, Y_4)\n",
    "regr_4.score(X_4, Y_4)"
   ]
  },
  {
   "cell_type": "markdown",
   "metadata": {},
   "source": [
    "#### Cross validate model"
   ]
  },
  {
   "cell_type": "code",
   "execution_count": 51,
   "metadata": {},
   "outputs": [
    {
     "name": "stdout",
     "output_type": "stream",
     "text": [
      "R-squareds:  [ 0.17322919 -0.00292909  0.60556378  0.76664623  0.76390731]\n",
      "Mean:  0.4612834814985602\n"
     ]
    }
   ],
   "source": [
    "r_sq_4 = cross_val_score(regr_4, X_4, Y_4, cv=5, scoring='explained_variance')\n",
    "print('R-squareds: ', r_sq_4)\n",
    "print('Mean: ', np.mean(r_sq_4))"
   ]
  },
  {
   "cell_type": "markdown",
   "metadata": {},
   "source": [
    "Wow this is variable.\n",
    "\n",
    "#### Test on validation dataset"
   ]
  },
  {
   "cell_type": "code",
   "execution_count": 52,
   "metadata": {},
   "outputs": [
    {
     "data": {
      "text/plain": [
       "-480.4963891143222"
      ]
     },
     "execution_count": 52,
     "metadata": {},
     "output_type": "execute_result"
    }
   ],
   "source": [
    "features_2014['rape_sq'] = features_2014['rape']**2\n",
    "X_2014_4 = features_2014[['murder_cat', 'robbery_cat', 'rape_sq']]\n",
    "regr_4.score(X_2014_4, Y_2014)"
   ]
  },
  {
   "cell_type": "markdown",
   "metadata": {},
   "source": [
    "This is terrible!\n",
    "\n",
    "#### Try with population instead"
   ]
  },
  {
   "cell_type": "code",
   "execution_count": 53,
   "metadata": {},
   "outputs": [],
   "source": [
    "features['pop_sq'] = ny_crime_no_ny['pop']**2\n",
    "features['pop'] = ny_crime_no_ny['pop']"
   ]
  },
  {
   "cell_type": "code",
   "execution_count": 54,
   "metadata": {},
   "outputs": [
    {
     "data": {
      "text/plain": [
       "0.8444937611173489"
      ]
     },
     "execution_count": 54,
     "metadata": {},
     "output_type": "execute_result"
    }
   ],
   "source": [
    "regr_5 = linear_model.LinearRegression()\n",
    "X_5 = features[['murder_cat', 'robbery_cat', 'pop_sq', 'pop']]\n",
    "Y_5 = features['prop_crime'].values.reshape(-1, 1)\n",
    "regr_5.fit(X_5, Y_5)\n",
    "regr_5.score(X_5, Y_5)"
   ]
  },
  {
   "cell_type": "code",
   "execution_count": 55,
   "metadata": {},
   "outputs": [
    {
     "data": {
      "text/plain": [
       "-3632.770497093291"
      ]
     },
     "execution_count": 55,
     "metadata": {},
     "output_type": "execute_result"
    }
   ],
   "source": [
    "features_2014['pop_sq'] = ny_crime_2014['pop']**2\n",
    "features_2014['pop'] = ny_crime_2014['pop']\n",
    "X_2014_5 = features_2014[['murder_cat', 'robbery_cat', 'pop_sq', 'pop']]\n",
    "regr_5.score(X_2014_5, Y_2014)"
   ]
  },
  {
   "cell_type": "markdown",
   "metadata": {},
   "source": [
    "Even more terrible."
   ]
  },
  {
   "cell_type": "markdown",
   "metadata": {},
   "source": [
    "## Conclusions from new dataset validation\n",
    "\n",
    "Squared relationships are not the way to go - the models perform terribly on new datasets."
   ]
  }
 ],
 "metadata": {
  "kernelspec": {
   "display_name": "Python 3",
   "language": "python",
   "name": "python3"
  },
  "language_info": {
   "codemirror_mode": {
    "name": "ipython",
    "version": 3
   },
   "file_extension": ".py",
   "mimetype": "text/x-python",
   "name": "python",
   "nbconvert_exporter": "python",
   "pygments_lexer": "ipython3",
   "version": "3.7.2"
  }
 },
 "nbformat": 4,
 "nbformat_minor": 2
}
